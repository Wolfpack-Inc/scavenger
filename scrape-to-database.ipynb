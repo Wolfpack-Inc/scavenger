{
 "cells": [
  {
   "cell_type": "code",
   "execution_count": 6,
   "metadata": {
    "ExecuteTime": {
     "end_time": "2019-10-11T17:35:02.206632Z",
     "start_time": "2019-10-11T17:35:02.203006Z"
    }
   },
   "outputs": [],
   "source": [
    "import os, os.path\n",
    "from PIL import Image\n",
    "import requests\n",
    "from io import BytesIO\n",
    "import xml.etree.ElementTree as ET\n",
    "import tqdm\n",
    "import pandas as pd\n",
    "import numpy as np\n",
    "import imagehash\n",
    "\n",
    "SCRAPE_DIR = '.scrape_output'"
   ]
  },
  {
   "cell_type": "markdown",
   "metadata": {},
   "source": [
    "### Steps to fetch the xml files\n",
    "1. Install `pip install oaiharvest`\n",
    "2. Create a folder in this repo called '.scrape_output'\n",
    "3. `cd .scrape_output`\n",
    "4. Run the following command: `oai-harvest --set=Beelddocument --metadataPrefix=ese https://denbosch.hosting.deventit.net/atlantispubliek/oai.axd` (This may take a while)"
   ]
  },
  {
   "cell_type": "markdown",
   "metadata": {
    "ExecuteTime": {
     "end_time": "2019-10-11T17:35:02.719875Z",
     "start_time": "2019-10-11T17:35:02.716419Z"
    }
   },
   "source": [
    "### Test code to get the format of the xml file"
   ]
  },
  {
   "cell_type": "code",
   "execution_count": 12,
   "metadata": {
    "ExecuteTime": {
     "end_time": "2019-10-11T17:36:33.477067Z",
     "start_time": "2019-10-11T17:36:33.465439Z"
    },
    "scrolled": false
   },
   "outputs": [
    {
     "data": {
      "text/html": [
       "<div>\n",
       "<style scoped>\n",
       "    .dataframe tbody tr th:only-of-type {\n",
       "        vertical-align: middle;\n",
       "    }\n",
       "\n",
       "    .dataframe tbody tr th {\n",
       "        vertical-align: top;\n",
       "    }\n",
       "\n",
       "    .dataframe thead th {\n",
       "        text-align: right;\n",
       "    }\n",
       "</style>\n",
       "<table border=\"1\" class=\"dataframe\">\n",
       "  <thead>\n",
       "    <tr style=\"text-align: right;\">\n",
       "      <th></th>\n",
       "      <th>key</th>\n",
       "      <th>value</th>\n",
       "    </tr>\n",
       "  </thead>\n",
       "  <tbody>\n",
       "    <tr>\n",
       "      <th>0</th>\n",
       "      <td>title</td>\n",
       "      <td>Titelblad van de in het bedrijf gedrukte bijbe...</td>\n",
       "    </tr>\n",
       "    <tr>\n",
       "      <th>1</th>\n",
       "      <td>creator</td>\n",
       "      <td>Onbekend</td>\n",
       "    </tr>\n",
       "    <tr>\n",
       "      <th>2</th>\n",
       "      <td>subject</td>\n",
       "      <td>Steegjes</td>\n",
       "    </tr>\n",
       "    <tr>\n",
       "      <th>3</th>\n",
       "      <td>subject</td>\n",
       "      <td>Drukkerijen</td>\n",
       "    </tr>\n",
       "    <tr>\n",
       "      <th>4</th>\n",
       "      <td>coverage</td>\n",
       "      <td>'s-Hertogenbosch;Achter de Exters</td>\n",
       "    </tr>\n",
       "    <tr>\n",
       "      <th>5</th>\n",
       "      <td>publisher</td>\n",
       "      <td>Stadsarchief 's-Hertogenbosch</td>\n",
       "    </tr>\n",
       "    <tr>\n",
       "      <th>6</th>\n",
       "      <td>publisher</td>\n",
       "      <td>http://www.stadsarchief.nl/</td>\n",
       "    </tr>\n",
       "    <tr>\n",
       "      <th>7</th>\n",
       "      <td>date</td>\n",
       "      <td>1894</td>\n",
       "    </tr>\n",
       "    <tr>\n",
       "      <th>8</th>\n",
       "      <td>type</td>\n",
       "      <td>Fotocopie</td>\n",
       "    </tr>\n",
       "    <tr>\n",
       "      <th>9</th>\n",
       "      <td>hasFormat</td>\n",
       "      <td>http://denbosch.hosting.deventit.net/HttpHandl...</td>\n",
       "    </tr>\n",
       "    <tr>\n",
       "      <th>10</th>\n",
       "      <td>identifier</td>\n",
       "      <td>0048297</td>\n",
       "    </tr>\n",
       "    <tr>\n",
       "      <th>11</th>\n",
       "      <td>language</td>\n",
       "      <td>nl</td>\n",
       "    </tr>\n",
       "    <tr>\n",
       "      <th>12</th>\n",
       "      <td>medium</td>\n",
       "      <td>Fotocopie</td>\n",
       "    </tr>\n",
       "    <tr>\n",
       "      <th>13</th>\n",
       "      <td>provider</td>\n",
       "      <td>DEVENTit B.V.</td>\n",
       "    </tr>\n",
       "    <tr>\n",
       "      <th>14</th>\n",
       "      <td>object</td>\n",
       "      <td>http://denbosch.hosting.deventit.net/HttpHandl...</td>\n",
       "    </tr>\n",
       "    <tr>\n",
       "      <th>15</th>\n",
       "      <td>type</td>\n",
       "      <td>IMAGE</td>\n",
       "    </tr>\n",
       "    <tr>\n",
       "      <th>16</th>\n",
       "      <td>rights</td>\n",
       "      <td>\\n                          http://creativecom...</td>\n",
       "    </tr>\n",
       "    <tr>\n",
       "      <th>17</th>\n",
       "      <td>dataProvider</td>\n",
       "      <td>Stadsarchief 's-Hertogenbosch</td>\n",
       "    </tr>\n",
       "    <tr>\n",
       "      <th>18</th>\n",
       "      <td>isShownBy</td>\n",
       "      <td>http://denbosch.hosting.deventit.net/HttpHandl...</td>\n",
       "    </tr>\n",
       "    <tr>\n",
       "      <th>19</th>\n",
       "      <td>isShownAt</td>\n",
       "      <td>http://denbosch.hosting.deventit.net/AtlantisP...</td>\n",
       "    </tr>\n",
       "  </tbody>\n",
       "</table>\n",
       "</div>"
      ],
      "text/plain": [
       "             key                                              value\n",
       "0          title  Titelblad van de in het bedrijf gedrukte bijbe...\n",
       "1        creator                                           Onbekend\n",
       "2        subject                                           Steegjes\n",
       "3        subject                                        Drukkerijen\n",
       "4       coverage                  's-Hertogenbosch;Achter de Exters\n",
       "5      publisher                      Stadsarchief 's-Hertogenbosch\n",
       "6      publisher                        http://www.stadsarchief.nl/\n",
       "7           date                                               1894\n",
       "8           type                                          Fotocopie\n",
       "9      hasFormat  http://denbosch.hosting.deventit.net/HttpHandl...\n",
       "10    identifier                                            0048297\n",
       "11      language                                                 nl\n",
       "12        medium                                          Fotocopie\n",
       "13      provider                                      DEVENTit B.V.\n",
       "14        object  http://denbosch.hosting.deventit.net/HttpHandl...\n",
       "15          type                                              IMAGE\n",
       "16        rights  \\n                          http://creativecom...\n",
       "17  dataProvider                      Stadsarchief 's-Hertogenbosch\n",
       "18     isShownBy  http://denbosch.hosting.deventit.net/HttpHandl...\n",
       "19     isShownAt  http://denbosch.hosting.deventit.net/AtlantisP..."
      ]
     },
     "execution_count": 12,
     "metadata": {},
     "output_type": "execute_result"
    }
   ],
   "source": [
    "tree = ET.parse('.scrape_output/14444813.ese.xml')\n",
    "root = tree.getroot()\n",
    "\n",
    "items = []\n",
    "\n",
    "for child in root:\n",
    "    prefix, has_namespace, postfix = child.tag.partition('}')\n",
    "    items.append({\n",
    "        'key': postfix,\n",
    "        'value': child.text\n",
    "    })\n",
    "\n",
    "pd.DataFrame(items)"
   ]
  },
  {
   "cell_type": "markdown",
   "metadata": {},
   "source": [
    "### Create a list of the XML files"
   ]
  },
  {
   "cell_type": "code",
   "execution_count": 14,
   "metadata": {
    "ExecuteTime": {
     "end_time": "2019-10-11T17:38:10.587619Z",
     "start_time": "2019-10-11T17:38:10.370397Z"
    }
   },
   "outputs": [
    {
     "data": {
      "text/plain": [
       "['.scrape_output/14452242.ese.xml',\n",
       " '.scrape_output/14754600.ese.xml',\n",
       " '.scrape_output/14734482.ese.xml']"
      ]
     },
     "execution_count": 14,
     "metadata": {},
     "output_type": "execute_result"
    }
   ],
   "source": [
    "image_xml_files = [SCRAPE_DIR + '/' + name for name in os.listdir(SCRAPE_DIR)]\n",
    "image_xml_files[:3]"
   ]
  },
  {
   "cell_type": "markdown",
   "metadata": {},
   "source": [
    "#### Loop through the images and transform them into a dictionaries"
   ]
  },
  {
   "cell_type": "code",
   "execution_count": 25,
   "metadata": {
    "ExecuteTime": {
     "end_time": "2019-10-11T17:40:23.813746Z",
     "start_time": "2019-10-11T17:40:23.806436Z"
    },
    "scrolled": false
   },
   "outputs": [],
   "source": [
    "images = []\n",
    "\n",
    "# xml namespace\n",
    "ns = {\n",
    "    'dc': 'http://purl.org/dc/elements/1.1/',\n",
    "    'europeana': 'http://www.europeana.eu/schemas/ese/',\n",
    "    'dcterms': 'http://purl.org/dc/terms/'\n",
    "}\n",
    "\n",
    "# No image hash\n",
    "no_img = '00ff6767777f8300'\n",
    "\n",
    "for image_xml in image_xml_files[:3]:\n",
    "    # Parse as xml\n",
    "    tree = ET.parse(image_xml)\n",
    "    \n",
    "    # Get the root of the tree\n",
    "    root = tree.getroot()\n",
    "    \n",
    "    # Dictionary to store the image attributes\n",
    "    image_attribs = {}\n",
    "    \n",
    "    # Image url\n",
    "    image_url = root.find('europeana:object', ns).text\n",
    "    \n",
    "    # Check if the image exists\n",
    "#     response = requests.get(image_url)\n",
    "#     image = Image.open(BytesIO(response.content))\n",
    "#     hasj = str(imagehash.average_hash(image))\n",
    "    \n",
    "#     # If there is no image\n",
    "#     if hasj == no_img:\n",
    "#         continue\n",
    "\n",
    "#     # Size of the image\n",
    "#     image_attribs['width'], image_attribs['height'] = image.size\n",
    "    \n",
    "    # Image url\n",
    "    image_attribs['url'] = image_url\n",
    "    \n",
    "    # Get the title\n",
    "    image_attribs['title'] = root.find('dc:title', ns).text.strip()\n",
    "    \n",
    "    # Location\n",
    "    coverage = root.find('dc:coverage', ns)\n",
    "    \n",
    "    if coverage != None:\n",
    "        coverage = coverage.text.split(';')\n",
    "        \n",
    "        # Don't store the image if it is not located in Den Bosch\n",
    "        if coverage[0] != \"'s-Hertogenbosch\":\n",
    "            continue\n",
    "            \n",
    "        street = coverage[1]\n",
    "        image_attribs['street'] = street\n",
    "            \n",
    "    # Date\n",
    "    image_attribs['date'] = root.find('dc:date', ns).text\n",
    "    \n",
    "    # Medium\n",
    "    medium = root.find('dcterms:medium', ns)\n",
    "    \n",
    "    # Make sure the image is a photo\n",
    "    if medium.text != 'Foto':\n",
    "        continue\n",
    "    \n",
    "    # Add to list\n",
    "    images.append(image_attribs)"
   ]
  },
  {
   "cell_type": "code",
   "execution_count": 26,
   "metadata": {
    "ExecuteTime": {
     "end_time": "2019-10-11T17:40:24.537459Z",
     "start_time": "2019-10-11T17:40:24.528787Z"
    }
   },
   "outputs": [
    {
     "data": {
      "text/html": [
       "<div>\n",
       "<style scoped>\n",
       "    .dataframe tbody tr th:only-of-type {\n",
       "        vertical-align: middle;\n",
       "    }\n",
       "\n",
       "    .dataframe tbody tr th {\n",
       "        vertical-align: top;\n",
       "    }\n",
       "\n",
       "    .dataframe thead th {\n",
       "        text-align: right;\n",
       "    }\n",
       "</style>\n",
       "<table border=\"1\" class=\"dataframe\">\n",
       "  <thead>\n",
       "    <tr style=\"text-align: right;\">\n",
       "      <th></th>\n",
       "      <th>date</th>\n",
       "      <th>street</th>\n",
       "      <th>title</th>\n",
       "      <th>url</th>\n",
       "    </tr>\n",
       "  </thead>\n",
       "  <tbody>\n",
       "    <tr>\n",
       "      <th>0</th>\n",
       "      <td>25/2/1952</td>\n",
       "      <td>Sint Jacobskerkhof</td>\n",
       "      <td>Carnaval. Groep leden van de oudste carnavalsv...</td>\n",
       "      <td>http://denbosch.hosting.deventit.net/HttpHandl...</td>\n",
       "    </tr>\n",
       "    <tr>\n",
       "      <th>1</th>\n",
       "      <td>8/2/1934</td>\n",
       "      <td></td>\n",
       "      <td>RK Huishoud- en Industrieschool Marienburg. te...</td>\n",
       "      <td>http://denbosch.hosting.deventit.net/HttpHandl...</td>\n",
       "    </tr>\n",
       "  </tbody>\n",
       "</table>\n",
       "</div>"
      ],
      "text/plain": [
       "        date              street  \\\n",
       "0  25/2/1952  Sint Jacobskerkhof   \n",
       "1   8/2/1934                       \n",
       "\n",
       "                                               title  \\\n",
       "0  Carnaval. Groep leden van de oudste carnavalsv...   \n",
       "1  RK Huishoud- en Industrieschool Marienburg. te...   \n",
       "\n",
       "                                                 url  \n",
       "0  http://denbosch.hosting.deventit.net/HttpHandl...  \n",
       "1  http://denbosch.hosting.deventit.net/HttpHandl...  "
      ]
     },
     "execution_count": 26,
     "metadata": {},
     "output_type": "execute_result"
    }
   ],
   "source": [
    "df = pd.DataFrame(images)\n",
    "df"
   ]
  }
 ],
 "metadata": {
  "kernelspec": {
   "display_name": "Python 3",
   "language": "python",
   "name": "python3"
  },
  "language_info": {
   "codemirror_mode": {
    "name": "ipython",
    "version": 3
   },
   "file_extension": ".py",
   "mimetype": "text/x-python",
   "name": "python",
   "nbconvert_exporter": "python",
   "pygments_lexer": "ipython3",
   "version": "3.7.3"
  },
  "toc": {
   "base_numbering": 1,
   "nav_menu": {},
   "number_sections": true,
   "sideBar": true,
   "skip_h1_title": false,
   "title_cell": "Table of Contents",
   "title_sidebar": "Contents",
   "toc_cell": false,
   "toc_position": {},
   "toc_section_display": true,
   "toc_window_display": false
  }
 },
 "nbformat": 4,
 "nbformat_minor": 2
}
