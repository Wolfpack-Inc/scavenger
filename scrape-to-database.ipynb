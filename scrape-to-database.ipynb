{
 "cells": [
  {
   "cell_type": "code",
   "execution_count": 1,
   "metadata": {
    "ExecuteTime": {
     "end_time": "2019-10-11T17:35:02.206632Z",
     "start_time": "2019-10-11T17:35:02.203006Z"
    }
   },
   "outputs": [],
   "source": [
    "import os, os.path\n",
    "from PIL import Image\n",
    "import requests\n",
    "from io import BytesIO\n",
    "import xml.etree.ElementTree as ET\n",
    "import tqdm\n",
    "import pandas as pd\n",
    "import numpy as np\n",
    "import imagehash\n",
    "\n",
    "SCRAPE_DIR = '.scrape_output'"
   ]
  },
  {
   "cell_type": "markdown",
   "metadata": {},
   "source": [
    "### Steps to fetch the xml files\n",
    "1. Install `pip install oaiharvest`\n",
    "2. Create a folder in this repo called '.scrape_output'\n",
    "3. `cd .scrape_output`\n",
    "4. Run the following command: `oai-harvest --set=Beelddocument --metadataPrefix=ese https://denbosch.hosting.deventit.net/atlantispubliek/oai.axd` (This may take a while)"
   ]
  },
  {
   "cell_type": "markdown",
   "metadata": {
    "ExecuteTime": {
     "end_time": "2019-10-11T17:35:02.719875Z",
     "start_time": "2019-10-11T17:35:02.716419Z"
    }
   },
   "source": [
    "### Test code to get the format of the xml file"
   ]
  },
  {
   "cell_type": "code",
   "execution_count": 2,
   "metadata": {
    "ExecuteTime": {
     "end_time": "2019-10-11T17:36:33.477067Z",
     "start_time": "2019-10-11T17:36:33.465439Z"
    },
    "scrolled": true
   },
   "outputs": [
    {
     "data": {
      "text/html": [
       "<div>\n",
       "<style scoped>\n",
       "    .dataframe tbody tr th:only-of-type {\n",
       "        vertical-align: middle;\n",
       "    }\n",
       "\n",
       "    .dataframe tbody tr th {\n",
       "        vertical-align: top;\n",
       "    }\n",
       "\n",
       "    .dataframe thead th {\n",
       "        text-align: right;\n",
       "    }\n",
       "</style>\n",
       "<table border=\"1\" class=\"dataframe\">\n",
       "  <thead>\n",
       "    <tr style=\"text-align: right;\">\n",
       "      <th></th>\n",
       "      <th>key</th>\n",
       "      <th>value</th>\n",
       "    </tr>\n",
       "  </thead>\n",
       "  <tbody>\n",
       "    <tr>\n",
       "      <th>0</th>\n",
       "      <td>title</td>\n",
       "      <td>Heien van de eerste paal voor de woningen voor...</td>\n",
       "    </tr>\n",
       "    <tr>\n",
       "      <th>1</th>\n",
       "      <td>creator</td>\n",
       "      <td>Janssens, Felix</td>\n",
       "    </tr>\n",
       "    <tr>\n",
       "      <th>2</th>\n",
       "      <td>subject</td>\n",
       "      <td>Exterieur</td>\n",
       "    </tr>\n",
       "    <tr>\n",
       "      <th>3</th>\n",
       "      <td>subject</td>\n",
       "      <td>Woningbouw</td>\n",
       "    </tr>\n",
       "    <tr>\n",
       "      <th>4</th>\n",
       "      <td>subject</td>\n",
       "      <td>Nieuwbouw</td>\n",
       "    </tr>\n",
       "    <tr>\n",
       "      <th>5</th>\n",
       "      <td>coverage</td>\n",
       "      <td>'s-Hertogenbosch;Schaarhuispad</td>\n",
       "    </tr>\n",
       "    <tr>\n",
       "      <th>6</th>\n",
       "      <td>publisher</td>\n",
       "      <td>Stadsarchief 's-Hertogenbosch</td>\n",
       "    </tr>\n",
       "    <tr>\n",
       "      <th>7</th>\n",
       "      <td>publisher</td>\n",
       "      <td>http://www.stadsarchief.nl/</td>\n",
       "    </tr>\n",
       "    <tr>\n",
       "      <th>8</th>\n",
       "      <td>date</td>\n",
       "      <td>10/3/1987</td>\n",
       "    </tr>\n",
       "    <tr>\n",
       "      <th>9</th>\n",
       "      <td>type</td>\n",
       "      <td>Foto</td>\n",
       "    </tr>\n",
       "    <tr>\n",
       "      <th>10</th>\n",
       "      <td>hasFormat</td>\n",
       "      <td>http://denbosch.hosting.deventit.net/HttpHandl...</td>\n",
       "    </tr>\n",
       "    <tr>\n",
       "      <th>11</th>\n",
       "      <td>identifier</td>\n",
       "      <td>0072667</td>\n",
       "    </tr>\n",
       "    <tr>\n",
       "      <th>12</th>\n",
       "      <td>language</td>\n",
       "      <td>nl</td>\n",
       "    </tr>\n",
       "    <tr>\n",
       "      <th>13</th>\n",
       "      <td>medium</td>\n",
       "      <td>Foto</td>\n",
       "    </tr>\n",
       "    <tr>\n",
       "      <th>14</th>\n",
       "      <td>provider</td>\n",
       "      <td>DEVENTit B.V.</td>\n",
       "    </tr>\n",
       "    <tr>\n",
       "      <th>15</th>\n",
       "      <td>object</td>\n",
       "      <td>http://denbosch.hosting.deventit.net/HttpHandl...</td>\n",
       "    </tr>\n",
       "    <tr>\n",
       "      <th>16</th>\n",
       "      <td>type</td>\n",
       "      <td>IMAGE</td>\n",
       "    </tr>\n",
       "    <tr>\n",
       "      <th>17</th>\n",
       "      <td>rights</td>\n",
       "      <td>\\n                          http://creativecom...</td>\n",
       "    </tr>\n",
       "    <tr>\n",
       "      <th>18</th>\n",
       "      <td>dataProvider</td>\n",
       "      <td>Stadsarchief 's-Hertogenbosch</td>\n",
       "    </tr>\n",
       "    <tr>\n",
       "      <th>19</th>\n",
       "      <td>isShownBy</td>\n",
       "      <td>http://denbosch.hosting.deventit.net/HttpHandl...</td>\n",
       "    </tr>\n",
       "    <tr>\n",
       "      <th>20</th>\n",
       "      <td>isShownAt</td>\n",
       "      <td>http://denbosch.hosting.deventit.net/AtlantisP...</td>\n",
       "    </tr>\n",
       "  </tbody>\n",
       "</table>\n",
       "</div>"
      ],
      "text/plain": [
       "             key                                              value\n",
       "0          title  Heien van de eerste paal voor de woningen voor...\n",
       "1        creator                                    Janssens, Felix\n",
       "2        subject                                          Exterieur\n",
       "3        subject                                         Woningbouw\n",
       "4        subject                                          Nieuwbouw\n",
       "5       coverage                     's-Hertogenbosch;Schaarhuispad\n",
       "6      publisher                      Stadsarchief 's-Hertogenbosch\n",
       "7      publisher                        http://www.stadsarchief.nl/\n",
       "8           date                                          10/3/1987\n",
       "9           type                                               Foto\n",
       "10     hasFormat  http://denbosch.hosting.deventit.net/HttpHandl...\n",
       "11    identifier                                            0072667\n",
       "12      language                                                 nl\n",
       "13        medium                                               Foto\n",
       "14      provider                                      DEVENTit B.V.\n",
       "15        object  http://denbosch.hosting.deventit.net/HttpHandl...\n",
       "16          type                                              IMAGE\n",
       "17        rights  \\n                          http://creativecom...\n",
       "18  dataProvider                      Stadsarchief 's-Hertogenbosch\n",
       "19     isShownBy  http://denbosch.hosting.deventit.net/HttpHandl...\n",
       "20     isShownAt  http://denbosch.hosting.deventit.net/AtlantisP..."
      ]
     },
     "execution_count": 2,
     "metadata": {},
     "output_type": "execute_result"
    }
   ],
   "source": [
    "tree = ET.parse('.scrape_output/14433440.ese.xml')\n",
    "root = tree.getroot()\n",
    "\n",
    "items = []\n",
    "\n",
    "for child in root:\n",
    "    prefix, has_namespace, postfix = child.tag.partition('}')\n",
    "    items.append({\n",
    "        'key': postfix,\n",
    "        'value': child.text\n",
    "    })\n",
    "\n",
    "pd.DataFrame(items)"
   ]
  },
  {
   "cell_type": "markdown",
   "metadata": {},
   "source": [
    "### Create a list of the XML files"
   ]
  },
  {
   "cell_type": "code",
   "execution_count": 3,
   "metadata": {
    "ExecuteTime": {
     "end_time": "2019-10-11T17:38:10.587619Z",
     "start_time": "2019-10-11T17:38:10.370397Z"
    },
    "scrolled": true
   },
   "outputs": [
    {
     "data": {
      "text/plain": [
       "['.scrape_output/104915350.ese.xml',\n",
       " '.scrape_output/104915448.ese.xml',\n",
       " '.scrape_output/104915560.ese.xml']"
      ]
     },
     "execution_count": 3,
     "metadata": {},
     "output_type": "execute_result"
    }
   ],
   "source": [
    "image_xml_files = [SCRAPE_DIR + '/' + name for name in os.listdir(SCRAPE_DIR)]\n",
    "image_xml_files[:3]"
   ]
  },
  {
   "cell_type": "markdown",
   "metadata": {},
   "source": [
    "#### Loop through the images and transform them into a dictionaries"
   ]
  },
  {
   "cell_type": "code",
   "execution_count": 176,
   "metadata": {
    "ExecuteTime": {
     "end_time": "2019-10-11T17:40:23.813746Z",
     "start_time": "2019-10-11T17:40:23.806436Z"
    },
    "scrolled": true
   },
   "outputs": [],
   "source": [
    "images = []\n",
    "\n",
    "# xml namespace\n",
    "ns = {\n",
    "    'dc': 'http://purl.org/dc/elements/1.1/',\n",
    "    'europeana': 'http://www.europeana.eu/schemas/ese/',\n",
    "    'dcterms': 'http://purl.org/dc/terms/'\n",
    "}\n",
    "\n",
    "# No image hash\n",
    "no_img = '00ff6767777f8300'\n",
    "\n",
    "for image_xml in image_xml_files[0:3]:\n",
    "    # Parse as xml\n",
    "    tree = ET.parse(image_xml)\n",
    "    \n",
    "    # Get the root of the tree\n",
    "    root = tree.getroot()\n",
    "    \n",
    "    # Dictionary to store the image attributes\n",
    "    image_attribs = {}\n",
    "    \n",
    "    # Image url\n",
    "    image_url = root.find('europeana:object', ns).text\n",
    "    \n",
    "    # Check if the image exists\n",
    "#     response = requests.get(image_url)\n",
    "#     image = Image.open(BytesIO(response.content))\n",
    "#     hasj = str(imagehash.average_hash(image))\n",
    "    \n",
    "#     # If there is no image\n",
    "#     if hasj == no_img:\n",
    "#         continue\n",
    "\n",
    "#     # Size of the image\n",
    "#     image_attribs['width'], image_attribs['height'] = image.size\n",
    "    \n",
    "    # Image url\n",
    "    image_attribs['url'] = image_url\n",
    "    \n",
    "    # Get the title\n",
    "    image_attribs['title'] = root.find('dc:title', ns).text.strip()\n",
    "    \n",
    "    # Location\n",
    "    coverage = root.find('dc:coverage', ns)\n",
    "    \n",
    "    if coverage != None:\n",
    "        coverage = coverage.text.split(';')\n",
    "        \n",
    "        # Don't store the image if it is not located in Den Bosch\n",
    "        if coverage[0] != \"'s-Hertogenbosch\":\n",
    "            continue\n",
    "            \n",
    "        street = coverage[1]\n",
    "        image_attribs['street'] = street\n",
    "            \n",
    "    # Date\n",
    "    if root.find('dc:date', ns).text == None or len(root.find('dc:date', ns).text[-4:]) < 4 or '/' in root.find('dc:date', ns).text[-4:]:\n",
    "        image_attribs['year'] = None\n",
    "    else: \n",
    "        image_attribs['year'] = root.find('dc:date', ns).text[-4:]\n",
    "        \n",
    "    # Medium\n",
    "    medium = root.find('dcterms:medium', ns)\n",
    "    \n",
    "    # Make sure the image is a photo\n",
    "    if medium == None:\n",
    "        continue\n",
    "    elif medium.text != 'Foto':\n",
    "        continue\n",
    "    \n",
    "    # Add to list\n",
    "    images.append(image_attribs)"
   ]
  },
  {
   "cell_type": "code",
   "execution_count": 178,
   "metadata": {
    "ExecuteTime": {
     "end_time": "2019-10-11T17:40:24.537459Z",
     "start_time": "2019-10-11T17:40:24.528787Z"
    }
   },
   "outputs": [
    {
     "data": {
      "text/html": [
       "<div>\n",
       "<style scoped>\n",
       "    .dataframe tbody tr th:only-of-type {\n",
       "        vertical-align: middle;\n",
       "    }\n",
       "\n",
       "    .dataframe tbody tr th {\n",
       "        vertical-align: top;\n",
       "    }\n",
       "\n",
       "    .dataframe thead th {\n",
       "        text-align: right;\n",
       "    }\n",
       "</style>\n",
       "<table border=\"1\" class=\"dataframe\">\n",
       "  <thead>\n",
       "    <tr style=\"text-align: right;\">\n",
       "      <th></th>\n",
       "      <th>street</th>\n",
       "      <th>title</th>\n",
       "      <th>url</th>\n",
       "      <th>year</th>\n",
       "    </tr>\n",
       "  </thead>\n",
       "  <tbody>\n",
       "    <tr>\n",
       "      <th>0</th>\n",
       "      <td>Muntelplein</td>\n",
       "      <td>Arbeiderswoningen van woningbouwvereniging mgr...</td>\n",
       "      <td>http://denbosch.hosting.deventit.net/HttpHandl...</td>\n",
       "      <td>1930</td>\n",
       "    </tr>\n",
       "    <tr>\n",
       "      <th>1</th>\n",
       "      <td></td>\n",
       "      <td>Arbeiderswoningen van woningbouwvereniging mgr...</td>\n",
       "      <td>http://denbosch.hosting.deventit.net/HttpHandl...</td>\n",
       "      <td>1930</td>\n",
       "    </tr>\n",
       "    <tr>\n",
       "      <th>2</th>\n",
       "      <td></td>\n",
       "      <td>Arbeiderswoningen van woningbouwvereniging mgr...</td>\n",
       "      <td>http://denbosch.hosting.deventit.net/HttpHandl...</td>\n",
       "      <td>1930</td>\n",
       "    </tr>\n",
       "  </tbody>\n",
       "</table>\n",
       "</div>"
      ],
      "text/plain": [
       "        street                                              title  \\\n",
       "0  Muntelplein  Arbeiderswoningen van woningbouwvereniging mgr...   \n",
       "1               Arbeiderswoningen van woningbouwvereniging mgr...   \n",
       "2               Arbeiderswoningen van woningbouwvereniging mgr...   \n",
       "\n",
       "                                                 url  year  \n",
       "0  http://denbosch.hosting.deventit.net/HttpHandl...  1930  \n",
       "1  http://denbosch.hosting.deventit.net/HttpHandl...  1930  \n",
       "2  http://denbosch.hosting.deventit.net/HttpHandl...  1930  "
      ]
     },
     "execution_count": 178,
     "metadata": {},
     "output_type": "execute_result"
    }
   ],
   "source": [
    "df = pd.DataFrame(images)\n",
    "df.head()"
   ]
  },
  {
   "cell_type": "code",
   "execution_count": 40,
   "metadata": {},
   "outputs": [],
   "source": [
    "# Import dataframe into MySQL\n",
    "import sqlalchemy\n",
    "database_username = 'remote'\n",
    "database_password = 'EtrPCEc0jt'\n",
    "database_ip       = '165.22.199.122'\n",
    "database_name     = 'scavenger'\n",
    "database_connection = sqlalchemy.create_engine('mysql+mysqlconnector://{0}:{1}@{2}/{3}'.\n",
    "                                               format(database_username, database_password, \n",
    "                                                      database_ip, database_name))\n",
    "df.to_sql(con=database_connection, name='images', if_exists='replace')"
   ]
  },
  {
   "cell_type": "code",
   "execution_count": 210,
   "metadata": {},
   "outputs": [],
   "source": [
    "street_names = df['street'].unique()"
   ]
  },
  {
   "cell_type": "code",
   "execution_count": 214,
   "metadata": {},
   "outputs": [],
   "source": [
    "import requests\n",
    "import json\n",
    "\n",
    "# HERE app_id & app_code\n",
    "APP_ID = 'oidKwC98hLcIQBaboIwS'\n",
    "APP_CODE = 'G6gKSvk45y4fF14hwpIeYg'\n",
    "\n",
    "# Function that collects multiple location-coordinates of a single street\n",
    "def get_location(streetname):\n",
    "    if streetname == '':\n",
    "        return None\n",
    "    url = 'https://geocoder.api.here.com/6.2/geocode.json?app_id=' + APP_ID + '&app_code=' + APP_CODE + '&searchtext='\n",
    "\n",
    "    r = requests.get(url + streetname + \", 's-Hertogenbosch\").json()\n",
    "    \n",
    "    if r['Response']['View'] != []:\n",
    "        #DisplayPosition\n",
    "        location_1 = r['Response']['View'][0]['Result'][0]['Location']['DisplayPosition']\n",
    "    \n",
    "        #NavigationPosition\n",
    "        location_2 = r['Response']['View'][0]['Result'][0]['Location']['NavigationPosition'][0]\n",
    "    \n",
    "        #MapView\n",
    "        location_3_A = r['Response']['View'][0]['Result'][0]['Location']['MapView']['TopLeft']\n",
    "        \n",
    "        location_3_B = r['Response']['View'][0]['Result'][0]['Location']['MapView']['BottomRight']\n",
    "\n",
    "        return ((location_1['Latitude'], location_1['Longitude']), (location_2['Latitude'], location_2['Longitude']), \n",
    "                (location_3_A['Latitude'], location_3_A['Longitude']), (location_3_B['Latitude'], location_3_B['Longitude']))\n",
    "    \n",
    "    else:\n",
    "        return None"
   ]
  },
  {
   "cell_type": "code",
   "execution_count": 225,
   "metadata": {},
   "outputs": [
    {
     "data": {
      "text/plain": [
       "'Muntelplein'"
      ]
     },
     "execution_count": 225,
     "metadata": {},
     "output_type": "execute_result"
    }
   ],
   "source": [
    "# All streetnames present in the dataframe\n",
    "street_names = df['street'].unique()\n",
    "\n",
    "# Create test street\n",
    "test_street = street_names[0]\n",
    "test_street"
   ]
  },
  {
   "cell_type": "code",
   "execution_count": 226,
   "metadata": {},
   "outputs": [
    {
     "data": {
      "text/plain": [
       "((51.69426, 5.30766),\n",
       " (51.69426, 5.30766),\n",
       " (51.69467, 5.30671),\n",
       " (51.6942, 5.3077))"
      ]
     },
     "execution_count": 226,
     "metadata": {},
     "output_type": "execute_result"
    }
   ],
   "source": [
    "test_result = get_location(test_street)\n",
    "test_result"
   ]
  },
  {
   "cell_type": "code",
   "execution_count": 220,
   "metadata": {},
   "outputs": [],
   "source": [
    "# Create list with coordinates for every street in the dataframe\n",
    "coordinates = [get_location(street) for street in df['street']]\n",
    "\n",
    "# Insert the 'coordinates' list into the dataframe\n",
    "df.insert(1, 'coordinates', coordinates, False)"
   ]
  },
  {
   "cell_type": "code",
   "execution_count": 223,
   "metadata": {},
   "outputs": [
    {
     "data": {
      "text/html": [
       "<div>\n",
       "<style scoped>\n",
       "    .dataframe tbody tr th:only-of-type {\n",
       "        vertical-align: middle;\n",
       "    }\n",
       "\n",
       "    .dataframe tbody tr th {\n",
       "        vertical-align: top;\n",
       "    }\n",
       "\n",
       "    .dataframe thead th {\n",
       "        text-align: right;\n",
       "    }\n",
       "</style>\n",
       "<table border=\"1\" class=\"dataframe\">\n",
       "  <thead>\n",
       "    <tr style=\"text-align: right;\">\n",
       "      <th></th>\n",
       "      <th>street</th>\n",
       "      <th>coordinates</th>\n",
       "      <th>title</th>\n",
       "      <th>url</th>\n",
       "      <th>year</th>\n",
       "    </tr>\n",
       "  </thead>\n",
       "  <tbody>\n",
       "    <tr>\n",
       "      <th>0</th>\n",
       "      <td>Muntelplein</td>\n",
       "      <td>((51.69426, 5.30766), (51.69426, 5.30766), (51...</td>\n",
       "      <td>Arbeiderswoningen van woningbouwvereniging mgr...</td>\n",
       "      <td>http://denbosch.hosting.deventit.net/HttpHandl...</td>\n",
       "      <td>1930</td>\n",
       "    </tr>\n",
       "    <tr>\n",
       "      <th>1</th>\n",
       "      <td></td>\n",
       "      <td>None</td>\n",
       "      <td>Arbeiderswoningen van woningbouwvereniging mgr...</td>\n",
       "      <td>http://denbosch.hosting.deventit.net/HttpHandl...</td>\n",
       "      <td>1930</td>\n",
       "    </tr>\n",
       "    <tr>\n",
       "      <th>2</th>\n",
       "      <td></td>\n",
       "      <td>None</td>\n",
       "      <td>Arbeiderswoningen van woningbouwvereniging mgr...</td>\n",
       "      <td>http://denbosch.hosting.deventit.net/HttpHandl...</td>\n",
       "      <td>1930</td>\n",
       "    </tr>\n",
       "  </tbody>\n",
       "</table>\n",
       "</div>"
      ],
      "text/plain": [
       "        street                                        coordinates  \\\n",
       "0  Muntelplein  ((51.69426, 5.30766), (51.69426, 5.30766), (51...   \n",
       "1                                                            None   \n",
       "2                                                            None   \n",
       "\n",
       "                                               title  \\\n",
       "0  Arbeiderswoningen van woningbouwvereniging mgr...   \n",
       "1  Arbeiderswoningen van woningbouwvereniging mgr...   \n",
       "2  Arbeiderswoningen van woningbouwvereniging mgr...   \n",
       "\n",
       "                                                 url  year  \n",
       "0  http://denbosch.hosting.deventit.net/HttpHandl...  1930  \n",
       "1  http://denbosch.hosting.deventit.net/HttpHandl...  1930  \n",
       "2  http://denbosch.hosting.deventit.net/HttpHandl...  1930  "
      ]
     },
     "execution_count": 223,
     "metadata": {},
     "output_type": "execute_result"
    }
   ],
   "source": [
    "df.head()"
   ]
  }
 ],
 "metadata": {
  "kernelspec": {
   "display_name": "Python 3",
   "language": "python",
   "name": "python3"
  },
  "language_info": {
   "codemirror_mode": {
    "name": "ipython",
    "version": 3
   },
   "file_extension": ".py",
   "mimetype": "text/x-python",
   "name": "python",
   "nbconvert_exporter": "python",
   "pygments_lexer": "ipython3",
   "version": "3.7.3"
  },
  "toc": {
   "base_numbering": 1,
   "nav_menu": {},
   "number_sections": true,
   "sideBar": true,
   "skip_h1_title": false,
   "title_cell": "Table of Contents",
   "title_sidebar": "Contents",
   "toc_cell": false,
   "toc_position": {},
   "toc_section_display": true,
   "toc_window_display": false
  }
 },
 "nbformat": 4,
 "nbformat_minor": 4
}
