{
 "cells": [
  {
   "cell_type": "code",
   "execution_count": 8,
   "metadata": {},
   "outputs": [],
   "source": [
    "import pandas as pd\n",
    "import numpy as np\n",
    "import geopy.distance\n",
    "from scavenger import *\n",
    "from peewee import *\n",
    "from playhouse.shortcuts import model_to_dict"
   ]
  },
  {
   "cell_type": "markdown",
   "metadata": {},
   "source": [
    "# Function to save a taken image"
   ]
  },
  {
   "cell_type": "code",
   "execution_count": 9,
   "metadata": {},
   "outputs": [],
   "source": [
    "def save_taken_image(user_id, image_id, longitude, latitude):\n",
    "    \"\"\"\n",
    "    This function inserts data into the user_pictures table.\n",
    "    \n",
    "    First it ASSUMES that we already checked if the user is known\n",
    "    in the database.\n",
    "    \n",
    "    \"\"\"\n",
    "    \n",
    "    from datetime import datetime, timedelta    \n",
    "    \n",
    "    # Calculate the current time the function is called.\n",
    "    current_time = datetime.now() \n",
    "    \n",
    "    # Insert the information in the user_pictures table.\n",
    "    (UserPictures\n",
    "     .insert(user_id = user_id,\n",
    "             image=image_id,\n",
    "             location_latitude = longitude,\n",
    "             location_longitude= latitude,\n",
    "             picture_datetime = current_time)\n",
    "     .execute() \n",
    "    )"
   ]
  },
  {
   "cell_type": "markdown",
   "metadata": {},
   "source": [
    "### Test"
   ]
  },
  {
   "cell_type": "code",
   "execution_count": 10,
   "metadata": {},
   "outputs": [],
   "source": [
    "save_taken_image(user_id = 6, \n",
    "                 image_id = 100, \n",
    "                 longitude = 40, \n",
    "                 latitude = 3\n",
    "                )"
   ]
  }
 ],
 "metadata": {
  "kernelspec": {
   "display_name": "Python 3",
   "language": "python",
   "name": "python3"
  },
  "language_info": {
   "codemirror_mode": {
    "name": "ipython",
    "version": 3
   },
   "file_extension": ".py",
   "mimetype": "text/x-python",
   "name": "python",
   "nbconvert_exporter": "python",
   "pygments_lexer": "ipython3",
   "version": "3.7.3"
  }
 },
 "nbformat": 4,
 "nbformat_minor": 2
}
