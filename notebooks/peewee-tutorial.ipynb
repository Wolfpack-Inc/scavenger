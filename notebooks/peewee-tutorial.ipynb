{
 "cells": [
  {
   "cell_type": "code",
   "execution_count": 66,
   "metadata": {
    "ExecuteTime": {
     "end_time": "2019-10-13T14:30:40.277284Z",
     "start_time": "2019-10-13T14:30:40.274933Z"
    }
   },
   "outputs": [],
   "source": [
    "import pandas as pd"
   ]
  },
  {
   "cell_type": "markdown",
   "metadata": {},
   "source": [
    "## Peewee tutorial\n",
    "Peewee is an object relational mapping framework. It connects a relational model (mysql) to objects (python)."
   ]
  },
  {
   "cell_type": "markdown",
   "metadata": {},
   "source": [
    "### Make sure peewee is installed"
   ]
  },
  {
   "cell_type": "code",
   "execution_count": 67,
   "metadata": {
    "ExecuteTime": {
     "end_time": "2019-10-13T14:30:41.734438Z",
     "start_time": "2019-10-13T14:30:40.279983Z"
    }
   },
   "outputs": [],
   "source": [
    "!pip install peewee -q"
   ]
  },
  {
   "cell_type": "markdown",
   "metadata": {},
   "source": [
    "### Install the mysql-python connector\n",
    "This allows python to talk to the mysql server"
   ]
  },
  {
   "cell_type": "code",
   "execution_count": 68,
   "metadata": {
    "ExecuteTime": {
     "end_time": "2019-10-13T14:30:43.161884Z",
     "start_time": "2019-10-13T14:30:41.738692Z"
    }
   },
   "outputs": [],
   "source": [
    "!pip install pymysql -q"
   ]
  },
  {
   "cell_type": "markdown",
   "metadata": {},
   "source": [
    "### Pwiz\n",
    "pwiz allows you to convert the database structure to python objects.\n",
    "\n",
    "Run the following command in the command line: `python -m pwiz -e mysql -H 165.22.199.122 -u remote -P masterclass`\n",
    "\n",
    "Password: `EtrPCEc0jt`"
   ]
  },
  {
   "cell_type": "markdown",
   "metadata": {},
   "source": [
    "To store it in a separate file: `python -m pwiz -e mysql -H 165.22.199.122 -u remote -P masterclass > models.py`"
   ]
  },
  {
   "cell_type": "code",
   "execution_count": 69,
   "metadata": {
    "ExecuteTime": {
     "end_time": "2019-10-13T14:30:43.175331Z",
     "start_time": "2019-10-13T14:30:43.166435Z"
    }
   },
   "outputs": [],
   "source": [
    "from peewee import *\n",
    "\n",
    "database = MySQLDatabase('masterclass', **{'charset': 'utf8', 'sql_mode': 'PIPES_AS_CONCAT', 'use_unicode': True, 'host': '165.22.199.122', 'user': 'remote', 'password': 'EtrPCEc0jt'})\n",
    "\n",
    "class UnknownField(object):\n",
    "    def __init__(self, *_, **__): pass\n",
    "\n",
    "class BaseModel(Model):\n",
    "    class Meta:\n",
    "        database = database\n",
    "\n",
    "class Bananas(BaseModel):\n",
    "    color = CharField(null=True)\n",
    "    idbananas = AutoField()\n",
    "    length = IntegerField(null=True)\n",
    "\n",
    "    class Meta:\n",
    "        table_name = 'bananas'"
   ]
  },
  {
   "cell_type": "markdown",
   "metadata": {},
   "source": [
    "### Inserting one new record"
   ]
  },
  {
   "cell_type": "code",
   "execution_count": 70,
   "metadata": {
    "ExecuteTime": {
     "end_time": "2019-10-13T14:30:43.315283Z",
     "start_time": "2019-10-13T14:30:43.177538Z"
    }
   },
   "outputs": [
    {
     "data": {
      "text/plain": [
       "<Bananas: 7>"
      ]
     },
     "execution_count": 70,
     "metadata": {},
     "output_type": "execute_result"
    }
   ],
   "source": [
    "Bananas.create(color='green', length=5)"
   ]
  },
  {
   "cell_type": "markdown",
   "metadata": {},
   "source": [
    "### Inserting records in bulk\n",
    "Let's first create a dataframe with the data"
   ]
  },
  {
   "cell_type": "code",
   "execution_count": 71,
   "metadata": {
    "ExecuteTime": {
     "end_time": "2019-10-13T14:30:43.326984Z",
     "start_time": "2019-10-13T14:30:43.317804Z"
    }
   },
   "outputs": [
    {
     "data": {
      "text/html": [
       "<div>\n",
       "<style scoped>\n",
       "    .dataframe tbody tr th:only-of-type {\n",
       "        vertical-align: middle;\n",
       "    }\n",
       "\n",
       "    .dataframe tbody tr th {\n",
       "        vertical-align: top;\n",
       "    }\n",
       "\n",
       "    .dataframe thead th {\n",
       "        text-align: right;\n",
       "    }\n",
       "</style>\n",
       "<table border=\"1\" class=\"dataframe\">\n",
       "  <thead>\n",
       "    <tr style=\"text-align: right;\">\n",
       "      <th></th>\n",
       "      <th>color</th>\n",
       "      <th>length</th>\n",
       "    </tr>\n",
       "  </thead>\n",
       "  <tbody>\n",
       "    <tr>\n",
       "      <th>0</th>\n",
       "      <td>yellow</td>\n",
       "      <td>10</td>\n",
       "    </tr>\n",
       "    <tr>\n",
       "      <th>1</th>\n",
       "      <td>red</td>\n",
       "      <td>15</td>\n",
       "    </tr>\n",
       "  </tbody>\n",
       "</table>\n",
       "</div>"
      ],
      "text/plain": [
       "    color  length\n",
       "0  yellow      10\n",
       "1     red      15"
      ]
     },
     "execution_count": 71,
     "metadata": {},
     "output_type": "execute_result"
    }
   ],
   "source": [
    "df = pd.DataFrame([{'color': 'yellow', 'length': 10}, {'color': 'red', 'length': 15}])\n",
    "\n",
    "df"
   ]
  },
  {
   "cell_type": "markdown",
   "metadata": {},
   "source": [
    "#### Make sure you have the right orientation"
   ]
  },
  {
   "cell_type": "code",
   "execution_count": 72,
   "metadata": {
    "ExecuteTime": {
     "end_time": "2019-10-13T14:30:43.335762Z",
     "start_time": "2019-10-13T14:30:43.329671Z"
    }
   },
   "outputs": [
    {
     "data": {
      "text/plain": [
       "[{'color': 'yellow', 'length': 10}, {'color': 'red', 'length': 15}]"
      ]
     },
     "execution_count": 72,
     "metadata": {},
     "output_type": "execute_result"
    }
   ],
   "source": [
    "data = df.to_dict(orient='records')\n",
    "data"
   ]
  },
  {
   "cell_type": "code",
   "execution_count": 73,
   "metadata": {
    "ExecuteTime": {
     "end_time": "2019-10-13T14:30:43.378644Z",
     "start_time": "2019-10-13T14:30:43.339719Z"
    }
   },
   "outputs": [
    {
     "data": {
      "text/plain": [
       "8"
      ]
     },
     "execution_count": 73,
     "metadata": {},
     "output_type": "execute_result"
    }
   ],
   "source": [
    "(Bananas\n",
    " .insert_many(data)\n",
    " .execute())"
   ]
  },
  {
   "cell_type": "markdown",
   "metadata": {},
   "source": [
    "### Updating records"
   ]
  },
  {
   "cell_type": "code",
   "execution_count": 74,
   "metadata": {
    "ExecuteTime": {
     "end_time": "2019-10-13T14:30:43.418252Z",
     "start_time": "2019-10-13T14:30:43.381390Z"
    }
   },
   "outputs": [
    {
     "data": {
      "text/plain": [
       "2"
      ]
     },
     "execution_count": 74,
     "metadata": {},
     "output_type": "execute_result"
    }
   ],
   "source": [
    "(Bananas\n",
    " .update(color='black')\n",
    " .where(Bananas.length < 12)\n",
    " .execute())"
   ]
  },
  {
   "cell_type": "markdown",
   "metadata": {},
   "source": [
    "### Getting one specific record"
   ]
  },
  {
   "cell_type": "code",
   "execution_count": 75,
   "metadata": {
    "ExecuteTime": {
     "end_time": "2019-10-13T14:30:43.423777Z",
     "start_time": "2019-10-13T14:30:43.421337Z"
    }
   },
   "outputs": [],
   "source": [
    "from playhouse.shortcuts import model_to_dict"
   ]
  },
  {
   "cell_type": "code",
   "execution_count": 76,
   "metadata": {
    "ExecuteTime": {
     "end_time": "2019-10-13T14:30:43.454034Z",
     "start_time": "2019-10-13T14:30:43.425883Z"
    }
   },
   "outputs": [
    {
     "data": {
      "text/plain": [
       "{'idbananas': 9, 'color': 'red', 'length': 15}"
      ]
     },
     "execution_count": 76,
     "metadata": {},
     "output_type": "execute_result"
    }
   ],
   "source": [
    "banana = Bananas.get(Bananas.color == 'red')\n",
    "\n",
    "model_to_dict(banana)"
   ]
  },
  {
   "cell_type": "markdown",
   "metadata": {},
   "source": [
    "### Getting multiple records"
   ]
  },
  {
   "cell_type": "code",
   "execution_count": 77,
   "metadata": {
    "ExecuteTime": {
     "end_time": "2019-10-13T14:30:43.486371Z",
     "start_time": "2019-10-13T14:30:43.456116Z"
    }
   },
   "outputs": [
    {
     "name": "stdout",
     "output_type": "stream",
     "text": [
      "{'idbananas': 8, 'color': 'black', 'length': 10}\n",
      "{'idbananas': 9, 'color': 'red', 'length': 15}\n"
     ]
    }
   ],
   "source": [
    "long_bananas = (Bananas\n",
    "                .select()\n",
    "                .where(Bananas.length > 5)\n",
    "                .dicts())\n",
    "\n",
    "for banana in long_bananas:\n",
    "    print(banana)"
   ]
  },
  {
   "cell_type": "markdown",
   "metadata": {},
   "source": [
    "### Deleting records"
   ]
  },
  {
   "cell_type": "code",
   "execution_count": 79,
   "metadata": {
    "ExecuteTime": {
     "end_time": "2019-10-13T14:32:14.034833Z",
     "start_time": "2019-10-13T14:32:13.987440Z"
    }
   },
   "outputs": [
    {
     "data": {
      "text/plain": [
       "0"
      ]
     },
     "execution_count": 79,
     "metadata": {},
     "output_type": "execute_result"
    }
   ],
   "source": [
    "(Bananas\n",
    " .delete()\n",
    " .where(Bananas.color == 'black')\n",
    " .execute())"
   ]
  },
  {
   "cell_type": "markdown",
   "metadata": {},
   "source": [
    "## Exercises"
   ]
  },
  {
   "cell_type": "markdown",
   "metadata": {},
   "source": [
    "### Create a `models.py` file with all the models from the `masterclass` database"
   ]
  },
  {
   "cell_type": "code",
   "execution_count": 82,
   "metadata": {
    "ExecuteTime": {
     "end_time": "2019-10-13T14:34:52.039024Z",
     "start_time": "2019-10-13T14:34:52.036538Z"
    }
   },
   "outputs": [],
   "source": [
    "from models import Bananas"
   ]
  },
  {
   "cell_type": "markdown",
   "metadata": {},
   "source": [
    "### Insert 5 bananas with different colors and lengths"
   ]
  },
  {
   "cell_type": "code",
   "execution_count": null,
   "metadata": {},
   "outputs": [],
   "source": []
  },
  {
   "cell_type": "markdown",
   "metadata": {},
   "source": [
    "### Get the average length of the bananas grouped by color"
   ]
  },
  {
   "cell_type": "code",
   "execution_count": null,
   "metadata": {},
   "outputs": [],
   "source": []
  }
 ],
 "metadata": {
  "kernelspec": {
   "display_name": "Python 3",
   "language": "python",
   "name": "python3"
  },
  "language_info": {
   "codemirror_mode": {
    "name": "ipython",
    "version": 3
   },
   "file_extension": ".py",
   "mimetype": "text/x-python",
   "name": "python",
   "nbconvert_exporter": "python",
   "pygments_lexer": "ipython3",
   "version": "3.7.3"
  },
  "toc": {
   "base_numbering": 1,
   "nav_menu": {},
   "number_sections": true,
   "sideBar": true,
   "skip_h1_title": false,
   "title_cell": "Table of Contents",
   "title_sidebar": "Contents",
   "toc_cell": false,
   "toc_position": {},
   "toc_section_display": true,
   "toc_window_display": false
  }
 },
 "nbformat": 4,
 "nbformat_minor": 2
}
