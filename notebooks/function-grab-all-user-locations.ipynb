{
 "cells": [
  {
   "cell_type": "code",
   "execution_count": 1,
   "metadata": {},
   "outputs": [],
   "source": [
    "import pandas as pd\n",
    "import numpy as np\n",
    "import geopy.distance\n",
    "from scavenger import *\n",
    "from peewee import *\n",
    "from playhouse.shortcuts import model_to_dict"
   ]
  },
  {
   "cell_type": "markdown",
   "metadata": {},
   "source": [
    "# Function grab all user locations"
   ]
  },
  {
   "cell_type": "code",
   "execution_count": 33,
   "metadata": {},
   "outputs": [],
   "source": [
    "def grab_all_user_location():\n",
    "    \"\"\"\n",
    "    In this function we return all the active users of the last day. We do the following steps:\n",
    "    \n",
    "    1. Take the current time when the function is called (current_time)\n",
    "    2. Get the datetime of yesterday (current_time_minus_one_day)\n",
    "    3. Query to get all the users.\n",
    "    4. Return this as a dataframe.\n",
    "    \n",
    "    \"\"\"\n",
    "    \n",
    "    \n",
    "    from datetime import datetime, timedelta\n",
    "    import pandas as pd\n",
    "    \n",
    "    current_time = datetime.now() \n",
    "    current_time_minus_one_day = datetime.now() - timedelta(days=1)\n",
    "    \n",
    "    \n",
    "    # Checking for users that logged it between yesterday and now, return a dataframe.\n",
    "    query = (Users\n",
    "             .select(Users.id,\n",
    "                     Users.location_latitude,\n",
    "                     Users.location_longitude,\n",
    "                     Users.last_update_datetime)\n",
    "             .where((Users.last_update_datetime > current_time_minus_one_day) &    \n",
    "                    (Users.last_update_datetime < current_time))\n",
    "             .dicts())\n",
    "    \n",
    "    # Change query to dataframe \n",
    "    query_as_df = pd.DataFrame(query)\n",
    "    \n",
    "    return query_as_df"
   ]
  },
  {
   "cell_type": "code",
   "execution_count": 34,
   "metadata": {},
   "outputs": [
    {
     "data": {
      "text/html": [
       "<div>\n",
       "<style scoped>\n",
       "    .dataframe tbody tr th:only-of-type {\n",
       "        vertical-align: middle;\n",
       "    }\n",
       "\n",
       "    .dataframe tbody tr th {\n",
       "        vertical-align: top;\n",
       "    }\n",
       "\n",
       "    .dataframe thead th {\n",
       "        text-align: right;\n",
       "    }\n",
       "</style>\n",
       "<table border=\"1\" class=\"dataframe\">\n",
       "  <thead>\n",
       "    <tr style=\"text-align: right;\">\n",
       "      <th></th>\n",
       "      <th>id</th>\n",
       "      <th>last_update_datetime</th>\n",
       "      <th>location_latitude</th>\n",
       "      <th>location_longitude</th>\n",
       "    </tr>\n",
       "  </thead>\n",
       "  <tbody>\n",
       "    <tr>\n",
       "      <th>0</th>\n",
       "      <td>4</td>\n",
       "      <td>2019-10-22 22:10:00</td>\n",
       "      <td>120.230000000</td>\n",
       "      <td>6.300000000</td>\n",
       "    </tr>\n",
       "    <tr>\n",
       "      <th>1</th>\n",
       "      <td>6</td>\n",
       "      <td>2019-10-22 12:00:00</td>\n",
       "      <td>100.001230000</td>\n",
       "      <td>3.130000000</td>\n",
       "    </tr>\n",
       "  </tbody>\n",
       "</table>\n",
       "</div>"
      ],
      "text/plain": [
       "   id last_update_datetime location_latitude location_longitude\n",
       "0   4  2019-10-22 22:10:00     120.230000000        6.300000000\n",
       "1   6  2019-10-22 12:00:00     100.001230000        3.130000000"
      ]
     },
     "execution_count": 34,
     "metadata": {},
     "output_type": "execute_result"
    }
   ],
   "source": [
    "grab_all_user_location()"
   ]
  }
 ],
 "metadata": {
  "kernelspec": {
   "display_name": "Python 3",
   "language": "python",
   "name": "python3"
  },
  "language_info": {
   "codemirror_mode": {
    "name": "ipython",
    "version": 3
   },
   "file_extension": ".py",
   "mimetype": "text/x-python",
   "name": "python",
   "nbconvert_exporter": "python",
   "pygments_lexer": "ipython3",
   "version": "3.7.3"
  }
 },
 "nbformat": 4,
 "nbformat_minor": 4
}
