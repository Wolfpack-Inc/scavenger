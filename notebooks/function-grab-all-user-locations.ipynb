{
 "cells": [
  {
   "cell_type": "code",
   "execution_count": 1,
   "metadata": {},
   "outputs": [],
   "source": [
    "import pandas as pd\n",
    "import numpy as np\n",
    "import geopy.distance\n",
    "from scavenger import *\n",
    "from peewee import *\n",
    "from playhouse.shortcuts import model_to_dict"
   ]
  },
  {
   "cell_type": "markdown",
   "metadata": {},
   "source": [
    "# Function grab all user locations"
   ]
  },
  {
   "cell_type": "code",
   "execution_count": 14,
   "metadata": {},
   "outputs": [],
   "source": [
    "def grab_all_user_location():\n",
    "    \"\"\"\n",
    "    In this function we return all the active users of the last day. We do the following steps:\n",
    "    \n",
    "    1. Take the current time when the function is called (current_time)\n",
    "    2. Get the datetime of yesterday (current_time_minus_one_day)\n",
    "    3. Query to get all the users.\n",
    "    4. Return this as a dataframe.\n",
    "    \n",
    "    \"\"\"\n",
    "    \n",
    "    \n",
    "    from datetime import datetime, timedelta\n",
    "    import pandas as pd\n",
    "    \n",
    "    current_time = datetime.now() \n",
    "    current_time_minus_one_day = datetime.now() - timedelta(days=1)\n",
    "    \n",
    "    \n",
    "    # Checking for users that logged it between yesterday and now, return a dataframe.\n",
    "    query = (Users\n",
    "             .select(Users.id,\n",
    "                     Users.location_latitude,\n",
    "                     Users.location_longitude,\n",
    "                     Users.last_update_datetime)\n",
    "             .where((Users.last_update_datetime > current_time_minus_one_day) &    \n",
    "                    (Users.last_update_datetime < current_time))\n",
    "             .dicts())\n",
    "    \n",
    "    # Change query to dict\n",
    "    query_list_of_dicts = [row for row in query]\n",
    "    \n",
    "    \n",
    "    return query_list_of_dicts"
   ]
  },
  {
   "cell_type": "code",
   "execution_count": 13,
   "metadata": {},
   "outputs": [
    {
     "data": {
      "text/plain": [
       "[{'id': 1,\n",
       "  'location_latitude': Decimal('53.123000000'),\n",
       "  'location_longitude': Decimal('52.234200000'),\n",
       "  'last_update_datetime': datetime.datetime(2019, 10, 28, 11, 50, 12)},\n",
       " {'id': 2,\n",
       "  'location_latitude': Decimal('53.123000000'),\n",
       "  'location_longitude': Decimal('52.234200000'),\n",
       "  'last_update_datetime': datetime.datetime(2019, 10, 28, 1, 1, 1)}]"
      ]
     },
     "execution_count": 13,
     "metadata": {},
     "output_type": "execute_result"
    }
   ],
   "source": [
    "grab_all_user_location()"
   ]
  },
  {
   "cell_type": "code",
   "execution_count": null,
   "metadata": {},
   "outputs": [],
   "source": []
  }
 ],
 "metadata": {
  "kernelspec": {
   "display_name": "Python 3",
   "language": "python",
   "name": "python3"
  },
  "language_info": {
   "codemirror_mode": {
    "name": "ipython",
    "version": 3
   },
   "file_extension": ".py",
   "mimetype": "text/x-python",
   "name": "python",
   "nbconvert_exporter": "python",
   "pygments_lexer": "ipython3",
   "version": "3.7.3"
  }
 },
 "nbformat": 4,
 "nbformat_minor": 4
}
