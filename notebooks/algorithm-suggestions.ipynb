{
 "cells": [
  {
   "cell_type": "code",
   "execution_count": 147,
   "metadata": {},
   "outputs": [],
   "source": [
    "import numpy as np\n",
    "import pandas as pd\n",
    "import geopy.distance\n",
    "from sklearn import preprocessing"
   ]
  },
  {
   "cell_type": "code",
   "execution_count": 3,
   "metadata": {},
   "outputs": [],
   "source": [
    "from scavenger import *"
   ]
  },
  {
   "cell_type": "code",
   "execution_count": 74,
   "metadata": {},
   "outputs": [],
   "source": [
    "query = (Images\n",
    "         .select(Images.id, Images.street, Locations.dis_lat, Locations.dis_long)\n",
    "         .join(Locations, on=(Images.street == Locations.street))\n",
    "         .where(Images.street!=\"\" and Images.usable==1)\n",
    "         .limit(20)\n",
    "         .dicts())"
   ]
  },
  {
   "cell_type": "code",
   "execution_count": 75,
   "metadata": {},
   "outputs": [],
   "source": [
    "df = pd.DataFrame(query, columns =['id','street', 'dis_lat', 'dis_long'])"
   ]
  },
  {
   "cell_type": "code",
   "execution_count": 76,
   "metadata": {},
   "outputs": [
    {
     "data": {
      "text/html": [
       "<div>\n",
       "<style scoped>\n",
       "    .dataframe tbody tr th:only-of-type {\n",
       "        vertical-align: middle;\n",
       "    }\n",
       "\n",
       "    .dataframe tbody tr th {\n",
       "        vertical-align: top;\n",
       "    }\n",
       "\n",
       "    .dataframe thead th {\n",
       "        text-align: right;\n",
       "    }\n",
       "</style>\n",
       "<table border=\"1\" class=\"dataframe\">\n",
       "  <thead>\n",
       "    <tr style=\"text-align: right;\">\n",
       "      <th></th>\n",
       "      <th>id</th>\n",
       "      <th>street</th>\n",
       "      <th>dis_lat</th>\n",
       "      <th>dis_long</th>\n",
       "    </tr>\n",
       "  </thead>\n",
       "  <tbody>\n",
       "    <tr>\n",
       "      <th>0</th>\n",
       "      <td>0</td>\n",
       "      <td>Muntelplein</td>\n",
       "      <td>51.69426</td>\n",
       "      <td>5.30766</td>\n",
       "    </tr>\n",
       "    <tr>\n",
       "      <th>1</th>\n",
       "      <td>4</td>\n",
       "      <td>Citadellaan</td>\n",
       "      <td>51.69688</td>\n",
       "      <td>5.30403</td>\n",
       "    </tr>\n",
       "    <tr>\n",
       "      <th>2</th>\n",
       "      <td>11</td>\n",
       "      <td>Brugplein</td>\n",
       "      <td>51.69439</td>\n",
       "      <td>5.29895</td>\n",
       "    </tr>\n",
       "    <tr>\n",
       "      <th>3</th>\n",
       "      <td>14</td>\n",
       "      <td>Uilenburg</td>\n",
       "      <td>51.68760</td>\n",
       "      <td>5.29959</td>\n",
       "    </tr>\n",
       "    <tr>\n",
       "      <th>4</th>\n",
       "      <td>17</td>\n",
       "      <td>Hinthamerstraat</td>\n",
       "      <td>51.68902</td>\n",
       "      <td>5.30550</td>\n",
       "    </tr>\n",
       "  </tbody>\n",
       "</table>\n",
       "</div>"
      ],
      "text/plain": [
       "   id           street   dis_lat  dis_long\n",
       "0   0      Muntelplein  51.69426   5.30766\n",
       "1   4      Citadellaan  51.69688   5.30403\n",
       "2  11        Brugplein  51.69439   5.29895\n",
       "3  14        Uilenburg  51.68760   5.29959\n",
       "4  17  Hinthamerstraat  51.68902   5.30550"
      ]
     },
     "execution_count": 76,
     "metadata": {},
     "output_type": "execute_result"
    }
   ],
   "source": [
    "df.head()"
   ]
  },
  {
   "cell_type": "code",
   "execution_count": 77,
   "metadata": {},
   "outputs": [
    {
     "data": {
      "text/plain": [
       "(20, 4)"
      ]
     },
     "execution_count": 77,
     "metadata": {},
     "output_type": "execute_result"
    }
   ],
   "source": [
    "df.shape"
   ]
  },
  {
   "cell_type": "code",
   "execution_count": 27,
   "metadata": {},
   "outputs": [
    {
     "name": "stdout",
     "output_type": "stream",
     "text": [
      "279.35290160430094\n"
     ]
    }
   ],
   "source": [
    "coords_1 = (52.2296756, 21.0122287)\n",
    "coords_2 = (52.406374, 16.9251681)\n",
    "\n",
    "print(geopy.distance.geodesic(coords_1, coords_2).km)"
   ]
  },
  {
   "cell_type": "code",
   "execution_count": 81,
   "metadata": {},
   "outputs": [],
   "source": [
    "def suggestions(df, coords, nr_of_suggestions, idx):\n",
    "    distances = []\n",
    "    for row in df.values:\n",
    "        distances.append((geopy.distance.geodesic(coords, (row[2], row[3])).km, row[0]))\n",
    "    if idx in [index for distance, index in sorted(distances)[:nr_of_suggestions]]:\n",
    "        suggestions = [index for distance, index in sorted(distances)[:nr_of_suggestions+1]]\n",
    "        suggestions.remove(idx)\n",
    "        return suggestions\n",
    "    else: return [index for distance, index in sorted(distances)[:nr_of_suggestions]]"
   ]
  },
  {
   "cell_type": "code",
   "execution_count": 83,
   "metadata": {},
   "outputs": [],
   "source": [
    "df['suggestions'] = df.apply(lambda x: suggestions(df, (x['dis_lat'], x['dis_long']), 5, x['id']), axis=1)"
   ]
  },
  {
   "cell_type": "code",
   "execution_count": 84,
   "metadata": {},
   "outputs": [
    {
     "data": {
      "text/html": [
       "<div>\n",
       "<style scoped>\n",
       "    .dataframe tbody tr th:only-of-type {\n",
       "        vertical-align: middle;\n",
       "    }\n",
       "\n",
       "    .dataframe tbody tr th {\n",
       "        vertical-align: top;\n",
       "    }\n",
       "\n",
       "    .dataframe thead th {\n",
       "        text-align: right;\n",
       "    }\n",
       "</style>\n",
       "<table border=\"1\" class=\"dataframe\">\n",
       "  <thead>\n",
       "    <tr style=\"text-align: right;\">\n",
       "      <th></th>\n",
       "      <th>id</th>\n",
       "      <th>street</th>\n",
       "      <th>dis_lat</th>\n",
       "      <th>dis_long</th>\n",
       "      <th>suggestions</th>\n",
       "    </tr>\n",
       "  </thead>\n",
       "  <tbody>\n",
       "    <tr>\n",
       "      <th>0</th>\n",
       "      <td>0</td>\n",
       "      <td>Muntelplein</td>\n",
       "      <td>51.69426</td>\n",
       "      <td>5.30766</td>\n",
       "      <td>[18, 24, 4, 40, 38]</td>\n",
       "    </tr>\n",
       "    <tr>\n",
       "      <th>1</th>\n",
       "      <td>4</td>\n",
       "      <td>Citadellaan</td>\n",
       "      <td>51.69688</td>\n",
       "      <td>5.30403</td>\n",
       "      <td>[40, 0, 11, 18, 150]</td>\n",
       "    </tr>\n",
       "    <tr>\n",
       "      <th>2</th>\n",
       "      <td>11</td>\n",
       "      <td>Brugplein</td>\n",
       "      <td>51.69439</td>\n",
       "      <td>5.29895</td>\n",
       "      <td>[150, 4, 40, 152, 0]</td>\n",
       "    </tr>\n",
       "    <tr>\n",
       "      <th>3</th>\n",
       "      <td>14</td>\n",
       "      <td>Uilenburg</td>\n",
       "      <td>51.68760</td>\n",
       "      <td>5.29959</td>\n",
       "      <td>[153, 152, 17, 41, 20]</td>\n",
       "    </tr>\n",
       "    <tr>\n",
       "      <th>4</th>\n",
       "      <td>17</td>\n",
       "      <td>Hinthamerstraat</td>\n",
       "      <td>51.68902</td>\n",
       "      <td>5.30550</td>\n",
       "      <td>[41, 20, 151, 38, 44]</td>\n",
       "    </tr>\n",
       "  </tbody>\n",
       "</table>\n",
       "</div>"
      ],
      "text/plain": [
       "   id           street   dis_lat  dis_long             suggestions\n",
       "0   0      Muntelplein  51.69426   5.30766     [18, 24, 4, 40, 38]\n",
       "1   4      Citadellaan  51.69688   5.30403    [40, 0, 11, 18, 150]\n",
       "2  11        Brugplein  51.69439   5.29895    [150, 4, 40, 152, 0]\n",
       "3  14        Uilenburg  51.68760   5.29959  [153, 152, 17, 41, 20]\n",
       "4  17  Hinthamerstraat  51.68902   5.30550   [41, 20, 151, 38, 44]"
      ]
     },
     "execution_count": 84,
     "metadata": {},
     "output_type": "execute_result"
    }
   ],
   "source": [
    "df.head()"
   ]
  },
  {
   "cell_type": "code",
   "execution_count": 87,
   "metadata": {},
   "outputs": [],
   "source": [
    "df.drop('suggestions', axis=1);"
   ]
  },
  {
   "cell_type": "code",
   "execution_count": 88,
   "metadata": {},
   "outputs": [],
   "source": [
    "def compare_coordinates(df, coords):\n",
    "    distances = {}\n",
    "    for row in df.values:\n",
    "        distances[row[0]] = geopy.distance.geodesic(coords, (row[2], row[3])).km\n",
    "    return distances"
   ]
  },
  {
   "cell_type": "code",
   "execution_count": 89,
   "metadata": {},
   "outputs": [],
   "source": [
    "df['weights'] = df.apply(lambda x: compare_coordinates(df, (x['dis_lat'], x['dis_long'])), axis=1)"
   ]
  },
  {
   "cell_type": "code",
   "execution_count": 91,
   "metadata": {},
   "outputs": [
    {
     "data": {
      "text/html": [
       "<div>\n",
       "<style scoped>\n",
       "    .dataframe tbody tr th:only-of-type {\n",
       "        vertical-align: middle;\n",
       "    }\n",
       "\n",
       "    .dataframe tbody tr th {\n",
       "        vertical-align: top;\n",
       "    }\n",
       "\n",
       "    .dataframe thead th {\n",
       "        text-align: right;\n",
       "    }\n",
       "</style>\n",
       "<table border=\"1\" class=\"dataframe\">\n",
       "  <thead>\n",
       "    <tr style=\"text-align: right;\">\n",
       "      <th></th>\n",
       "      <th>id</th>\n",
       "      <th>street</th>\n",
       "      <th>dis_lat</th>\n",
       "      <th>dis_long</th>\n",
       "      <th>suggestions</th>\n",
       "      <th>weights</th>\n",
       "    </tr>\n",
       "  </thead>\n",
       "  <tbody>\n",
       "    <tr>\n",
       "      <th>0</th>\n",
       "      <td>0</td>\n",
       "      <td>Muntelplein</td>\n",
       "      <td>51.69426</td>\n",
       "      <td>5.30766</td>\n",
       "      <td>[18, 24, 4, 40, 38]</td>\n",
       "      <td>{0: 0.0, 4: 0.38466957884739417, 11: 0.6024248...</td>\n",
       "    </tr>\n",
       "    <tr>\n",
       "      <th>1</th>\n",
       "      <td>4</td>\n",
       "      <td>Citadellaan</td>\n",
       "      <td>51.69688</td>\n",
       "      <td>5.30403</td>\n",
       "      <td>[40, 0, 11, 18, 150]</td>\n",
       "      <td>{0: 0.38466957884739417, 4: 0.0, 11: 0.4473536...</td>\n",
       "    </tr>\n",
       "    <tr>\n",
       "      <th>2</th>\n",
       "      <td>11</td>\n",
       "      <td>Brugplein</td>\n",
       "      <td>51.69439</td>\n",
       "      <td>5.29895</td>\n",
       "      <td>[150, 4, 40, 152, 0]</td>\n",
       "      <td>{0: 0.60242488764498, 4: 0.44735360247362216, ...</td>\n",
       "    </tr>\n",
       "    <tr>\n",
       "      <th>3</th>\n",
       "      <td>14</td>\n",
       "      <td>Uilenburg</td>\n",
       "      <td>51.68760</td>\n",
       "      <td>5.29959</td>\n",
       "      <td>[153, 152, 17, 41, 20]</td>\n",
       "      <td>{0: 0.9276271167076866, 4: 1.077185939451358, ...</td>\n",
       "    </tr>\n",
       "    <tr>\n",
       "      <th>4</th>\n",
       "      <td>17</td>\n",
       "      <td>Hinthamerstraat</td>\n",
       "      <td>51.68902</td>\n",
       "      <td>5.30550</td>\n",
       "      <td>[41, 20, 151, 38, 44]</td>\n",
       "      <td>{0: 0.6018386606348527, 4: 0.8804028775358267,...</td>\n",
       "    </tr>\n",
       "  </tbody>\n",
       "</table>\n",
       "</div>"
      ],
      "text/plain": [
       "   id           street   dis_lat  dis_long             suggestions  \\\n",
       "0   0      Muntelplein  51.69426   5.30766     [18, 24, 4, 40, 38]   \n",
       "1   4      Citadellaan  51.69688   5.30403    [40, 0, 11, 18, 150]   \n",
       "2  11        Brugplein  51.69439   5.29895    [150, 4, 40, 152, 0]   \n",
       "3  14        Uilenburg  51.68760   5.29959  [153, 152, 17, 41, 20]   \n",
       "4  17  Hinthamerstraat  51.68902   5.30550   [41, 20, 151, 38, 44]   \n",
       "\n",
       "                                             weights  \n",
       "0  {0: 0.0, 4: 0.38466957884739417, 11: 0.6024248...  \n",
       "1  {0: 0.38466957884739417, 4: 0.0, 11: 0.4473536...  \n",
       "2  {0: 0.60242488764498, 4: 0.44735360247362216, ...  \n",
       "3  {0: 0.9276271167076866, 4: 1.077185939451358, ...  \n",
       "4  {0: 0.6018386606348527, 4: 0.8804028775358267,...  "
      ]
     },
     "execution_count": 91,
     "metadata": {},
     "output_type": "execute_result"
    }
   ],
   "source": [
    "df.head()"
   ]
  },
  {
   "cell_type": "code",
   "execution_count": 269,
   "metadata": {},
   "outputs": [],
   "source": [
    "# KLOPT NIET, uitzoeken wat er fout ging met normalizeren oid!!\n",
    "\n",
    "def suggestions(df, image_id, nr_suggestions):\n",
    "    image_ids = [im_id for im_id, distance in df.loc[df['id']==image_id, 'weights'].values[0].items()]\n",
    "    weights = [distance for im_id, distance in df.loc[df['id']==image_id, 'weights'].values[0].items()]\n",
    "    weights_norm = [1 - ((val-min(weights)) / (max(weights)-min(weights))) for val in weights]\n",
    "    sum_weights = sum(weights_norm)\n",
    "    weights = [nr/sum_weights for nr in weights_norm]\n",
    "    suggestions = []\n",
    "    for time in range(nr_suggestions):\n",
    "        suggestions.append(np.random.choice(image_ids, replace=False, p=weights))\n",
    "    return weights"
   ]
  },
  {
   "cell_type": "code",
   "execution_count": 270,
   "metadata": {},
   "outputs": [
    {
     "data": {
      "text/plain": [
       "[0.0,\n",
       " 0.0200733497091404,\n",
       " 0.03143655258474364,\n",
       " 0.04840669638901217,\n",
       " 0.031405961291773477,\n",
       " 0.01423097143063126,\n",
       " 0.036859277766552366,\n",
       " 0.019711594093132754,\n",
       " 0.056097051402896954,\n",
       " 0.16927401756022814,\n",
       " 0.026149408149484025,\n",
       " 0.0200733497091404,\n",
       " 0.031405961291773477,\n",
       " 0.044070838672928235,\n",
       " 0.11576083287219267,\n",
       " 0.16927401756022814,\n",
       " 0.03936380567657919,\n",
       " 0.036859277766552366,\n",
       " 0.041050955466969206,\n",
       " 0.048496080606040985]"
      ]
     },
     "execution_count": 270,
     "metadata": {},
     "output_type": "execute_result"
    }
   ],
   "source": [
    "suggestions(df, 0, 5)"
   ]
  },
  {
   "cell_type": "code",
   "execution_count": 212,
   "metadata": {},
   "outputs": [
    {
     "data": {
      "text/plain": [
       "{0: 0.0,\n",
       " 4: 0.38466957884739417,\n",
       " 11: 0.60242488764498,\n",
       " 14: 0.9276271167076866,\n",
       " 17: 0.6018386606348527,\n",
       " 18: 0.272710925985489,\n",
       " 20: 0.7063416450430579,\n",
       " 24: 0.3777371842808821,\n",
       " 28: 1.0749989140032306,\n",
       " 37: 3.243831547210551,\n",
       " 38: 0.5011062909640002,\n",
       " 40: 0.38466957884739417,\n",
       " 41: 0.6018386606348527,\n",
       " 44: 0.8445382159633944,\n",
       " 45: 2.218347783165126,\n",
       " 47: 3.243831547210551,\n",
       " 150: 0.7543364097595252,\n",
       " 151: 0.7063416450430579,\n",
       " 152: 0.7866675955718403,\n",
       " 153: 0.9293400041738189}"
      ]
     },
     "execution_count": 212,
     "metadata": {},
     "output_type": "execute_result"
    }
   ],
   "source": [
    "df.loc[df['id']==0, 'weights'].values[0]"
   ]
  },
  {
   "cell_type": "code",
   "execution_count": 274,
   "metadata": {},
   "outputs": [],
   "source": [
    "image_ids = [im_id for im_id, distance in df.loc[df['id']==0, 'weights'].values[0].items()]\n",
    "weights = [distance for im_id, distance in df.loc[df['id']==0, 'weights'].values[0].items()]\n",
    "weights_norm = [((val-min(weights)) / (max(weights)-min(weights))) for val in weights]\n",
    "sum_weights = sum(weights_norm)\n",
    "probs = [nr/sum_weights for nr in weights_norm]"
   ]
  },
  {
   "cell_type": "code",
   "execution_count": 275,
   "metadata": {},
   "outputs": [
    {
     "data": {
      "text/plain": [
       "[0.0,\n",
       " 0.0200733497091404,\n",
       " 0.03143655258474364,\n",
       " 0.04840669638901217,\n",
       " 0.031405961291773477,\n",
       " 0.01423097143063126,\n",
       " 0.036859277766552366,\n",
       " 0.019711594093132754,\n",
       " 0.056097051402896954,\n",
       " 0.16927401756022814,\n",
       " 0.026149408149484025,\n",
       " 0.0200733497091404,\n",
       " 0.031405961291773477,\n",
       " 0.044070838672928235,\n",
       " 0.11576083287219267,\n",
       " 0.16927401756022814,\n",
       " 0.03936380567657919,\n",
       " 0.036859277766552366,\n",
       " 0.041050955466969206,\n",
       " 0.048496080606040985]"
      ]
     },
     "execution_count": 275,
     "metadata": {},
     "output_type": "execute_result"
    }
   ],
   "source": [
    "probs"
   ]
  },
  {
   "cell_type": "code",
   "execution_count": 280,
   "metadata": {
    "scrolled": true
   },
   "outputs": [],
   "source": [
    "sum_weights_2 = sum(weights)\n",
    "probs2 = [nr/sum_weights_2 for nr in weights]"
   ]
  }
 ],
 "metadata": {
  "kernelspec": {
   "display_name": "Python 3",
   "language": "python",
   "name": "python3"
  },
  "language_info": {
   "codemirror_mode": {
    "name": "ipython",
    "version": 3
   },
   "file_extension": ".py",
   "mimetype": "text/x-python",
   "name": "python",
   "nbconvert_exporter": "python",
   "pygments_lexer": "ipython3",
   "version": "3.7.3"
  }
 },
 "nbformat": 4,
 "nbformat_minor": 2
}
