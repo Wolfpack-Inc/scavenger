{
 "cells": [
  {
   "cell_type": "code",
   "execution_count": 1,
   "metadata": {},
   "outputs": [],
   "source": [
    "import pandas as pd\n",
    "import numpy as np\n",
    "import geopy.distance\n",
    "from scavenger import *\n",
    "from peewee import *\n",
    "from playhouse.shortcuts import model_to_dict"
   ]
  },
  {
   "cell_type": "markdown",
   "metadata": {},
   "source": [
    "# Function to save current location of user"
   ]
  },
  {
   "cell_type": "code",
   "execution_count": 2,
   "metadata": {},
   "outputs": [],
   "source": [
    "def check_user(user_id):\n",
    "    \"\"\"\n",
    "    This function checks if the user_id is already known in the database and based on that returns a boolean.\n",
    "    \n",
    "    - If known in User table: return True\n",
    "    - If not known in User table: return False\n",
    "    \"\"\"\n",
    "    \n",
    "    \n",
    "    # Import the needed libaries\n",
    "    import peewee\n",
    "    from playhouse.shortcuts import model_to_dict\n",
    "    \n",
    "    # Check if user_id is known in the dataset\n",
    "    try:\n",
    "        query = model_to_dict(Users.get(Users.id == user_id))    # Try to query the user.\n",
    "        return True\n",
    "    \n",
    "    except:\n",
    "        return False"
   ]
  },
  {
   "cell_type": "code",
   "execution_count": 3,
   "metadata": {},
   "outputs": [],
   "source": [
    "def save_current_location(latitude, longitude, user_id, current_time):\n",
    "    \"\"\"\n",
    "    This function updates the location of the given user. But has two scenarios:\n",
    "    1. User is known in the database: updates his/her location.\n",
    "    2. User is not known in the database: inserts a new user_id and his/her location.\n",
    "    \"\"\"\n",
    "    \n",
    "    \n",
    "    # If user is known: update location of this user.\n",
    "    if check_user(user_id):                                 \n",
    "        \n",
    "        (Users\n",
    "        .update(location_latitude=latitude,\n",
    "                location_longitude=longitude)\n",
    "        .where(Users.id == user_id)\n",
    "        .execute())\n",
    "        print(\"Updated {}'s locations\".format(user_id))\n",
    "    \n",
    "    \n",
    "    # Else (not known): insert a new user & location.\n",
    "    else:                       \n",
    "        (Users                                          \n",
    "         .insert(id = user_id,\n",
    "                location_latitude=latitude,\n",
    "                location_longitude=longitude,\n",
    "                last_update_datetime=current_time)\n",
    "        .execute())\n",
    "        \n",
    "        print(\"Inserted new user {}'s location\".format(user_id))    "
   ]
  },
  {
   "cell_type": "markdown",
   "metadata": {},
   "source": [
    "# Testing the code"
   ]
  },
  {
   "cell_type": "code",
   "execution_count": 18,
   "metadata": {},
   "outputs": [
    {
     "name": "stdout",
     "output_type": "stream",
     "text": [
      "Updated 1's locations\n"
     ]
    }
   ],
   "source": [
    "# Here user_id 1 is already in the table, so it should just update the user_id 1.\n",
    "save_current_location(latitude = 53.123000000, \n",
    "                      longitude = 52.234200000,\n",
    "                      user_id = 1,\n",
    "                      current_time = \"2019-01-01 01:01:01\")"
   ]
  },
  {
   "cell_type": "code",
   "execution_count": 19,
   "metadata": {},
   "outputs": [
    {
     "name": "stdout",
     "output_type": "stream",
     "text": [
      "Inserted new user 3's location\n"
     ]
    }
   ],
   "source": [
    "# Here we didn't had user_id 3, so we add it and also insert his/her location.\n",
    "save_current_location(latitude = 100.00123, \n",
    "                      longitude = 3.130000,\n",
    "                      user_id = 3,\n",
    "                      current_time = \"2019-01-01 01:01:01\")"
   ]
  },
  {
   "cell_type": "code",
   "execution_count": 4,
   "metadata": {},
   "outputs": [
    {
     "name": "stdout",
     "output_type": "stream",
     "text": [
      "Inserted new user 4's location\n"
     ]
    }
   ],
   "source": [
    "# Here we didn't had user_id 4, so we add it and also insert his/her location.\n",
    "save_current_location(latitude = 120.23, \n",
    "                      longitude = 6.30000,\n",
    "                      user_id = 4,\n",
    "                      current_time = \"2019-10-22 22:10:00\")"
   ]
  },
  {
   "cell_type": "code",
   "execution_count": 5,
   "metadata": {},
   "outputs": [
    {
     "name": "stdout",
     "output_type": "stream",
     "text": [
      "Inserted new user 5's location\n"
     ]
    }
   ],
   "source": [
    "# Here we didn't had user_id 5, so we add it and also insert his/her location.\n",
    "save_current_location(latitude = 542.23, \n",
    "                      longitude = 10.30000,\n",
    "                      user_id = 5,\n",
    "                      current_time = \"2019-10-22 07:42:26\")"
   ]
  }
 ],
 "metadata": {
  "kernelspec": {
   "display_name": "Python 3",
   "language": "python",
   "name": "python3"
  },
  "language_info": {
   "codemirror_mode": {
    "name": "ipython",
    "version": 3
   },
   "file_extension": ".py",
   "mimetype": "text/x-python",
   "name": "python",
   "nbconvert_exporter": "python",
   "pygments_lexer": "ipython3",
   "version": "3.7.3"
  }
 },
 "nbformat": 4,
 "nbformat_minor": 4
}
