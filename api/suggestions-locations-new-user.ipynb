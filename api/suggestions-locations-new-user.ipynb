{
 "cells": [
  {
   "cell_type": "code",
   "execution_count": 126,
   "metadata": {},
   "outputs": [],
   "source": [
    "import pandas as pd\n",
    "import numpy as np\n",
    "import geopy.distance\n",
    "from models import *"
   ]
  },
  {
   "cell_type": "code",
   "execution_count": 179,
   "metadata": {},
   "outputs": [],
   "source": [
    "# Find top 5 locations for a given location of a user\n",
    "\n",
    "locations = (Locations\n",
    "             .select(Locations.street, fn.sqrt(fn.pow(51.69-Locations.dis_lat, 2) + \n",
    "                                               fn.pow(5.30-Locations.dis_long, 2))\n",
    "                     .alias('dist'))\n",
    "             .order_by(SQL('dist'))\n",
    "             .limit(5)\n",
    "             .dicts())\n",
    "\n",
    "# pick one image for each of the top 5 locations\n",
    "# I CANNOT SUCCEED GR MYRTHE"
   ]
  }
 ],
 "metadata": {
  "kernelspec": {
   "display_name": "Python 3",
   "language": "python",
   "name": "python3"
  },
  "language_info": {
   "codemirror_mode": {
    "name": "ipython",
    "version": 3
   },
   "file_extension": ".py",
   "mimetype": "text/x-python",
   "name": "python",
   "nbconvert_exporter": "python",
   "pygments_lexer": "ipython3",
   "version": "3.7.3"
  }
 },
 "nbformat": 4,
 "nbformat_minor": 2
}
